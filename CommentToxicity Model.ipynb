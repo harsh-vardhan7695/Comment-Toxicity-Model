{
 "cells": [
  {
   "cell_type": "code",
   "execution_count": 1,
   "id": "effc4748",
   "metadata": {
    "_cell_guid": "b1076dfc-b9ad-4769-8c92-a6c4dae69d19",
    "_uuid": "8f2839f25d086af736a60e9eeb907d3b93b6e0e5",
    "execution": {
     "iopub.execute_input": "2024-02-20T08:36:11.853204Z",
     "iopub.status.busy": "2024-02-20T08:36:11.852857Z",
     "iopub.status.idle": "2024-02-20T08:36:12.730199Z",
     "shell.execute_reply": "2024-02-20T08:36:12.729115Z"
    },
    "papermill": {
     "duration": 0.887267,
     "end_time": "2024-02-20T08:36:12.732481",
     "exception": false,
     "start_time": "2024-02-20T08:36:11.845214",
     "status": "completed"
    },
    "tags": []
   },
   "outputs": [
    {
     "name": "stdout",
     "output_type": "stream",
     "text": [
      "/kaggle/input/jigsaw-toxic-comment-classification-challenge/train.csv.zip\n",
      "/kaggle/input/jigsaw-toxic-comment-classification-challenge/sample_submission.csv.zip\n",
      "/kaggle/input/jigsaw-toxic-comment-classification-challenge/test_labels.csv.zip\n",
      "/kaggle/input/jigsaw-toxic-comment-classification-challenge/test.csv.zip\n"
     ]
    }
   ],
   "source": [
    "# This Python 3 environment comes with many helpful analytics libraries installed\n",
    "# It is defined by the kaggle/python Docker image: https://github.com/kaggle/docker-python\n",
    "# For example, here's several helpful packages to load\n",
    "\n",
    "import numpy as np # linear algebra\n",
    "import pandas as pd # data processing, CSV file I/O (e.g. pd.read_csv)\n",
    "\n",
    "# Input data files are available in the read-only \"../input/\" directory\n",
    "# For example, running this (by clicking run or pressing Shift+Enter) will list all files under the input directory\n",
    "\n",
    "import os\n",
    "for dirname, _, filenames in os.walk('/kaggle/input'):\n",
    "    for filename in filenames:\n",
    "        print(os.path.join(dirname, filename))\n",
    "\n",
    "# You can write up to 20GB to the current directory (/kaggle/working/) that gets preserved as output when you create a version using \"Save & Run All\" \n",
    "# You can also write temporary files to /kaggle/temp/, but they won't be saved outside of the current session"
   ]
  },
  {
   "cell_type": "markdown",
   "id": "6c94a1cf",
   "metadata": {
    "papermill": {
     "duration": 0.006018,
     "end_time": "2024-02-20T08:36:12.744817",
     "exception": false,
     "start_time": "2024-02-20T08:36:12.738799",
     "status": "completed"
    },
    "tags": []
   },
   "source": [
    "1. Loading Data\n",
    "2. PrePrcossing Comments\n",
    "3. Creating a Deep NLP Model\n",
    "4. Evaluating model performance\n",
    "5. Creating a gradio DL App\n",
    "\n"
   ]
  },
  {
   "cell_type": "markdown",
   "id": "274f7016",
   "metadata": {
    "papermill": {
     "duration": 0.007134,
     "end_time": "2024-02-20T08:36:12.758007",
     "exception": false,
     "start_time": "2024-02-20T08:36:12.750873",
     "status": "completed"
    },
    "tags": []
   },
   "source": [
    "**1. Install Dependencies and Bring Data**"
   ]
  },
  {
   "cell_type": "code",
   "execution_count": 2,
   "id": "5a16a450",
   "metadata": {
    "execution": {
     "iopub.execute_input": "2024-02-20T08:36:12.771835Z",
     "iopub.status.busy": "2024-02-20T08:36:12.771402Z",
     "iopub.status.idle": "2024-02-20T08:36:27.170928Z",
     "shell.execute_reply": "2024-02-20T08:36:27.169811Z"
    },
    "papermill": {
     "duration": 14.409276,
     "end_time": "2024-02-20T08:36:27.173551",
     "exception": false,
     "start_time": "2024-02-20T08:36:12.764275",
     "status": "completed"
    },
    "tags": []
   },
   "outputs": [
    {
     "name": "stderr",
     "output_type": "stream",
     "text": [
      "2024-02-20 08:36:15.027286: E external/local_xla/xla/stream_executor/cuda/cuda_dnn.cc:9261] Unable to register cuDNN factory: Attempting to register factory for plugin cuDNN when one has already been registered\n",
      "2024-02-20 08:36:15.027384: E external/local_xla/xla/stream_executor/cuda/cuda_fft.cc:607] Unable to register cuFFT factory: Attempting to register factory for plugin cuFFT when one has already been registered\n",
      "2024-02-20 08:36:15.187833: E external/local_xla/xla/stream_executor/cuda/cuda_blas.cc:1515] Unable to register cuBLAS factory: Attempting to register factory for plugin cuBLAS when one has already been registered\n"
     ]
    }
   ],
   "source": [
    "import os\n",
    "import pandas as pd\n",
    "import tensorflow as tf\n",
    "import warnings\n",
    "warnings.filterwarnings(\"ignore\")\n",
    "\n",
    "import matplotlib.pyplot as plt"
   ]
  },
  {
   "cell_type": "code",
   "execution_count": 3,
   "id": "7de672a1",
   "metadata": {
    "execution": {
     "iopub.execute_input": "2024-02-20T08:36:27.188761Z",
     "iopub.status.busy": "2024-02-20T08:36:27.188210Z",
     "iopub.status.idle": "2024-02-20T08:36:28.888818Z",
     "shell.execute_reply": "2024-02-20T08:36:28.888004Z"
    },
    "papermill": {
     "duration": 1.710353,
     "end_time": "2024-02-20T08:36:28.891131",
     "exception": false,
     "start_time": "2024-02-20T08:36:27.180778",
     "status": "completed"
    },
    "tags": []
   },
   "outputs": [],
   "source": [
    "df = pd.read_csv('/kaggle/input/jigsaw-toxic-comment-classification-challenge/train.csv.zip')"
   ]
  },
  {
   "cell_type": "code",
   "execution_count": 4,
   "id": "7dbe2151",
   "metadata": {
    "execution": {
     "iopub.execute_input": "2024-02-20T08:36:28.904788Z",
     "iopub.status.busy": "2024-02-20T08:36:28.904451Z",
     "iopub.status.idle": "2024-02-20T08:36:28.922196Z",
     "shell.execute_reply": "2024-02-20T08:36:28.921293Z"
    },
    "papermill": {
     "duration": 0.027118,
     "end_time": "2024-02-20T08:36:28.924499",
     "exception": false,
     "start_time": "2024-02-20T08:36:28.897381",
     "status": "completed"
    },
    "tags": []
   },
   "outputs": [
    {
     "data": {
      "text/html": [
       "<div>\n",
       "<style scoped>\n",
       "    .dataframe tbody tr th:only-of-type {\n",
       "        vertical-align: middle;\n",
       "    }\n",
       "\n",
       "    .dataframe tbody tr th {\n",
       "        vertical-align: top;\n",
       "    }\n",
       "\n",
       "    .dataframe thead th {\n",
       "        text-align: right;\n",
       "    }\n",
       "</style>\n",
       "<table border=\"1\" class=\"dataframe\">\n",
       "  <thead>\n",
       "    <tr style=\"text-align: right;\">\n",
       "      <th></th>\n",
       "      <th>id</th>\n",
       "      <th>comment_text</th>\n",
       "      <th>toxic</th>\n",
       "      <th>severe_toxic</th>\n",
       "      <th>obscene</th>\n",
       "      <th>threat</th>\n",
       "      <th>insult</th>\n",
       "      <th>identity_hate</th>\n",
       "    </tr>\n",
       "  </thead>\n",
       "  <tbody>\n",
       "    <tr>\n",
       "      <th>0</th>\n",
       "      <td>0000997932d777bf</td>\n",
       "      <td>Explanation\\nWhy the edits made under my usern...</td>\n",
       "      <td>0</td>\n",
       "      <td>0</td>\n",
       "      <td>0</td>\n",
       "      <td>0</td>\n",
       "      <td>0</td>\n",
       "      <td>0</td>\n",
       "    </tr>\n",
       "    <tr>\n",
       "      <th>1</th>\n",
       "      <td>000103f0d9cfb60f</td>\n",
       "      <td>D'aww! He matches this background colour I'm s...</td>\n",
       "      <td>0</td>\n",
       "      <td>0</td>\n",
       "      <td>0</td>\n",
       "      <td>0</td>\n",
       "      <td>0</td>\n",
       "      <td>0</td>\n",
       "    </tr>\n",
       "    <tr>\n",
       "      <th>2</th>\n",
       "      <td>000113f07ec002fd</td>\n",
       "      <td>Hey man, I'm really not trying to edit war. It...</td>\n",
       "      <td>0</td>\n",
       "      <td>0</td>\n",
       "      <td>0</td>\n",
       "      <td>0</td>\n",
       "      <td>0</td>\n",
       "      <td>0</td>\n",
       "    </tr>\n",
       "    <tr>\n",
       "      <th>3</th>\n",
       "      <td>0001b41b1c6bb37e</td>\n",
       "      <td>\"\\nMore\\nI can't make any real suggestions on ...</td>\n",
       "      <td>0</td>\n",
       "      <td>0</td>\n",
       "      <td>0</td>\n",
       "      <td>0</td>\n",
       "      <td>0</td>\n",
       "      <td>0</td>\n",
       "    </tr>\n",
       "    <tr>\n",
       "      <th>4</th>\n",
       "      <td>0001d958c54c6e35</td>\n",
       "      <td>You, sir, are my hero. Any chance you remember...</td>\n",
       "      <td>0</td>\n",
       "      <td>0</td>\n",
       "      <td>0</td>\n",
       "      <td>0</td>\n",
       "      <td>0</td>\n",
       "      <td>0</td>\n",
       "    </tr>\n",
       "  </tbody>\n",
       "</table>\n",
       "</div>"
      ],
      "text/plain": [
       "                 id                                       comment_text  toxic  \\\n",
       "0  0000997932d777bf  Explanation\\nWhy the edits made under my usern...      0   \n",
       "1  000103f0d9cfb60f  D'aww! He matches this background colour I'm s...      0   \n",
       "2  000113f07ec002fd  Hey man, I'm really not trying to edit war. It...      0   \n",
       "3  0001b41b1c6bb37e  \"\\nMore\\nI can't make any real suggestions on ...      0   \n",
       "4  0001d958c54c6e35  You, sir, are my hero. Any chance you remember...      0   \n",
       "\n",
       "   severe_toxic  obscene  threat  insult  identity_hate  \n",
       "0             0        0       0       0              0  \n",
       "1             0        0       0       0              0  \n",
       "2             0        0       0       0              0  \n",
       "3             0        0       0       0              0  \n",
       "4             0        0       0       0              0  "
      ]
     },
     "execution_count": 4,
     "metadata": {},
     "output_type": "execute_result"
    }
   ],
   "source": [
    "df.head()"
   ]
  },
  {
   "cell_type": "code",
   "execution_count": 5,
   "id": "17948c81",
   "metadata": {
    "execution": {
     "iopub.execute_input": "2024-02-20T08:36:28.939041Z",
     "iopub.status.busy": "2024-02-20T08:36:28.938746Z",
     "iopub.status.idle": "2024-02-20T08:36:28.943938Z",
     "shell.execute_reply": "2024-02-20T08:36:28.943124Z"
    },
    "papermill": {
     "duration": 0.014342,
     "end_time": "2024-02-20T08:36:28.946007",
     "exception": false,
     "start_time": "2024-02-20T08:36:28.931665",
     "status": "completed"
    },
    "tags": []
   },
   "outputs": [
    {
     "data": {
      "text/plain": [
       "(159571, 8)"
      ]
     },
     "execution_count": 5,
     "metadata": {},
     "output_type": "execute_result"
    }
   ],
   "source": [
    "df.shape"
   ]
  },
  {
   "cell_type": "markdown",
   "id": "dc94e645",
   "metadata": {
    "papermill": {
     "duration": 0.006101,
     "end_time": "2024-02-20T08:36:28.958319",
     "exception": false,
     "start_time": "2024-02-20T08:36:28.952218",
     "status": "completed"
    },
    "tags": []
   },
   "source": [
    "**2. PreProcess**"
   ]
  },
  {
   "cell_type": "code",
   "execution_count": 6,
   "id": "9bef4757",
   "metadata": {
    "execution": {
     "iopub.execute_input": "2024-02-20T08:36:28.972646Z",
     "iopub.status.busy": "2024-02-20T08:36:28.972370Z",
     "iopub.status.idle": "2024-02-20T08:36:29.091147Z",
     "shell.execute_reply": "2024-02-20T08:36:29.090433Z"
    },
    "papermill": {
     "duration": 0.128404,
     "end_time": "2024-02-20T08:36:29.093304",
     "exception": false,
     "start_time": "2024-02-20T08:36:28.964900",
     "status": "completed"
    },
    "tags": []
   },
   "outputs": [],
   "source": [
    "#tokenization using TextVectorization\n",
    "from tensorflow.keras.layers import TextVectorization"
   ]
  },
  {
   "cell_type": "code",
   "execution_count": 7,
   "id": "653af0f2",
   "metadata": {
    "execution": {
     "iopub.execute_input": "2024-02-20T08:36:29.108766Z",
     "iopub.status.busy": "2024-02-20T08:36:29.108472Z",
     "iopub.status.idle": "2024-02-20T08:36:29.123487Z",
     "shell.execute_reply": "2024-02-20T08:36:29.122691Z"
    },
    "papermill": {
     "duration": 0.024417,
     "end_time": "2024-02-20T08:36:29.125532",
     "exception": false,
     "start_time": "2024-02-20T08:36:29.101115",
     "status": "completed"
    },
    "tags": []
   },
   "outputs": [],
   "source": [
    "X = df['comment_text'] \n",
    "y = df[df.columns[2:]].values"
   ]
  },
  {
   "cell_type": "code",
   "execution_count": 8,
   "id": "c2f9d4e7",
   "metadata": {
    "execution": {
     "iopub.execute_input": "2024-02-20T08:36:29.140091Z",
     "iopub.status.busy": "2024-02-20T08:36:29.139816Z",
     "iopub.status.idle": "2024-02-20T08:36:30.038478Z",
     "shell.execute_reply": "2024-02-20T08:36:30.037089Z"
    },
    "papermill": {
     "duration": 0.908823,
     "end_time": "2024-02-20T08:36:30.041181",
     "exception": false,
     "start_time": "2024-02-20T08:36:29.132358",
     "status": "completed"
    },
    "tags": []
   },
   "outputs": [],
   "source": [
    "vectorizer = TextVectorization(max_tokens=200000, #no of words in the vocab\n",
    "                              output_sequence_length=1800, #max sentences lenght\n",
    "                              output_mode='int') #it will map every single word to integers"
   ]
  },
  {
   "cell_type": "code",
   "execution_count": 9,
   "id": "88fd4767",
   "metadata": {
    "execution": {
     "iopub.execute_input": "2024-02-20T08:36:30.055850Z",
     "iopub.status.busy": "2024-02-20T08:36:30.055532Z",
     "iopub.status.idle": "2024-02-20T08:36:30.061394Z",
     "shell.execute_reply": "2024-02-20T08:36:30.060543Z"
    },
    "papermill": {
     "duration": 0.015276,
     "end_time": "2024-02-20T08:36:30.063262",
     "exception": false,
     "start_time": "2024-02-20T08:36:30.047986",
     "status": "completed"
    },
    "tags": []
   },
   "outputs": [
    {
     "data": {
      "text/plain": [
       "array([\"Explanation\\nWhy the edits made under my username Hardcore Metallica Fan were reverted? They weren't vandalisms, just closure on some GAs after I voted at New York Dolls FAC. And please don't remove the template from the talk page since I'm retired now.89.205.38.27\",\n",
       "       \"D'aww! He matches this background colour I'm seemingly stuck with. Thanks.  (talk) 21:51, January 11, 2016 (UTC)\",\n",
       "       \"Hey man, I'm really not trying to edit war. It's just that this guy is constantly removing relevant information and talking to me through edits instead of my talk page. He seems to care more about the formatting than the actual info.\",\n",
       "       ...,\n",
       "       'Spitzer \\n\\nUmm, theres no actual article for prostitution ring.  - Crunch Captain.',\n",
       "       'And it looks like it was actually you who put on the speedy to have the first version deleted now that I look at it.',\n",
       "       '\"\\nAnd ... I really don\\'t think you understand.  I came here and my idea was bad right away.  What kind of community goes \"\"you have bad ideas\"\" go away, instead of helping rewrite them.   \"'],\n",
       "      dtype=object)"
      ]
     },
     "execution_count": 9,
     "metadata": {},
     "output_type": "execute_result"
    }
   ],
   "source": [
    "X.values"
   ]
  },
  {
   "cell_type": "code",
   "execution_count": 10,
   "id": "4bffe8ed",
   "metadata": {
    "execution": {
     "iopub.execute_input": "2024-02-20T08:36:30.077133Z",
     "iopub.status.busy": "2024-02-20T08:36:30.076847Z",
     "iopub.status.idle": "2024-02-20T08:36:41.352832Z",
     "shell.execute_reply": "2024-02-20T08:36:41.351786Z"
    },
    "papermill": {
     "duration": 11.28574,
     "end_time": "2024-02-20T08:36:41.355399",
     "exception": false,
     "start_time": "2024-02-20T08:36:30.069659",
     "status": "completed"
    },
    "tags": []
   },
   "outputs": [],
   "source": [
    "vectorizer.adapt(X.values)"
   ]
  },
  {
   "cell_type": "code",
   "execution_count": 11,
   "id": "8a98622e",
   "metadata": {
    "execution": {
     "iopub.execute_input": "2024-02-20T08:36:41.370644Z",
     "iopub.status.busy": "2024-02-20T08:36:41.370329Z",
     "iopub.status.idle": "2024-02-20T08:36:42.835951Z",
     "shell.execute_reply": "2024-02-20T08:36:42.835040Z"
    },
    "papermill": {
     "duration": 1.475422,
     "end_time": "2024-02-20T08:36:42.838046",
     "exception": false,
     "start_time": "2024-02-20T08:36:41.362624",
     "status": "completed"
    },
    "tags": []
   },
   "outputs": [
    {
     "data": {
      "text/plain": [
       "<tf.Tensor: shape=(5,), dtype=int64, numpy=array([  1,   9, 275,   0,   0])>"
      ]
     },
     "execution_count": 11,
     "metadata": {},
     "output_type": "execute_result"
    }
   ],
   "source": [
    "vectorizer('Hello,life is great')[:5]"
   ]
  },
  {
   "cell_type": "code",
   "execution_count": 12,
   "id": "06298c03",
   "metadata": {
    "execution": {
     "iopub.execute_input": "2024-02-20T08:36:42.852588Z",
     "iopub.status.busy": "2024-02-20T08:36:42.852018Z",
     "iopub.status.idle": "2024-02-20T08:36:48.449344Z",
     "shell.execute_reply": "2024-02-20T08:36:48.448105Z"
    },
    "papermill": {
     "duration": 5.607038,
     "end_time": "2024-02-20T08:36:48.451736",
     "exception": false,
     "start_time": "2024-02-20T08:36:42.844698",
     "status": "completed"
    },
    "tags": []
   },
   "outputs": [
    {
     "data": {
      "text/plain": [
       "['', '[UNK]', 'the', 'to', 'of']"
      ]
     },
     "execution_count": 12,
     "metadata": {},
     "output_type": "execute_result"
    }
   ],
   "source": [
    "vectorizer.get_vocabulary()[:5]"
   ]
  },
  {
   "cell_type": "code",
   "execution_count": 13,
   "id": "e4581923",
   "metadata": {
    "execution": {
     "iopub.execute_input": "2024-02-20T08:36:48.466760Z",
     "iopub.status.busy": "2024-02-20T08:36:48.466442Z",
     "iopub.status.idle": "2024-02-20T08:36:53.134219Z",
     "shell.execute_reply": "2024-02-20T08:36:53.133252Z"
    },
    "papermill": {
     "duration": 4.677902,
     "end_time": "2024-02-20T08:36:53.136488",
     "exception": false,
     "start_time": "2024-02-20T08:36:48.458586",
     "status": "completed"
    },
    "tags": []
   },
   "outputs": [
    {
     "data": {
      "text/plain": [
       "<tf.Tensor: shape=(159571, 1800), dtype=int64, numpy=\n",
       "array([[  645,    76,     2, ...,     0,     0,     0],\n",
       "       [    1,    54,  2489, ...,     0,     0,     0],\n",
       "       [  425,   441,    70, ...,     0,     0,     0],\n",
       "       ...,\n",
       "       [32445,  7392,   383, ...,     0,     0,     0],\n",
       "       [    5,    12,   534, ...,     0,     0,     0],\n",
       "       [    5,     8,   130, ...,     0,     0,     0]])>"
      ]
     },
     "execution_count": 13,
     "metadata": {},
     "output_type": "execute_result"
    }
   ],
   "source": [
    "vectorized_text = vectorizer(X.values)\n",
    "vectorized_text"
   ]
  },
  {
   "cell_type": "code",
   "execution_count": 14,
   "id": "3273dbc7",
   "metadata": {
    "execution": {
     "iopub.execute_input": "2024-02-20T08:36:53.152637Z",
     "iopub.status.busy": "2024-02-20T08:36:53.151939Z",
     "iopub.status.idle": "2024-02-20T08:36:53.177445Z",
     "shell.execute_reply": "2024-02-20T08:36:53.176530Z"
    },
    "papermill": {
     "duration": 0.035172,
     "end_time": "2024-02-20T08:36:53.179360",
     "exception": false,
     "start_time": "2024-02-20T08:36:53.144188",
     "status": "completed"
    },
    "tags": []
   },
   "outputs": [],
   "source": [
    "#creating a tensorrflow data pipeline using #MCSBAP map,chache,shuffle,batch,prefetch\n",
    "dataset = tf.data.Dataset.from_tensor_slices((vectorized_text,y))\n",
    "dataset = dataset.cache()\n",
    "dataset = dataset.shuffle(160000)\n",
    "dataset = dataset.batch(16) #no of words in a batche\n",
    "dataset = dataset.prefetch(8) # to prevent bottlenecks\n"
   ]
  },
  {
   "cell_type": "code",
   "execution_count": 15,
   "id": "4ffa1c63",
   "metadata": {
    "execution": {
     "iopub.execute_input": "2024-02-20T08:36:53.194431Z",
     "iopub.status.busy": "2024-02-20T08:36:53.194123Z",
     "iopub.status.idle": "2024-02-20T08:36:55.125396Z",
     "shell.execute_reply": "2024-02-20T08:36:55.124240Z"
    },
    "papermill": {
     "duration": 1.941107,
     "end_time": "2024-02-20T08:36:55.127591",
     "exception": false,
     "start_time": "2024-02-20T08:36:53.186484",
     "status": "completed"
    },
    "tags": []
   },
   "outputs": [
    {
     "name": "stdout",
     "output_type": "stream",
     "text": [
      "(16, 1800)\n",
      "(16, 6)\n"
     ]
    }
   ],
   "source": [
    "batch_X,batch_y = dataset.as_numpy_iterator().next()\n",
    "print(batch_X.shape)\n",
    "print(batch_y.shape)"
   ]
  },
  {
   "cell_type": "code",
   "execution_count": 16,
   "id": "96aaecaa",
   "metadata": {
    "execution": {
     "iopub.execute_input": "2024-02-20T08:36:55.144300Z",
     "iopub.status.busy": "2024-02-20T08:36:55.143891Z",
     "iopub.status.idle": "2024-02-20T08:36:55.150017Z",
     "shell.execute_reply": "2024-02-20T08:36:55.149033Z"
    },
    "papermill": {
     "duration": 0.016281,
     "end_time": "2024-02-20T08:36:55.152065",
     "exception": false,
     "start_time": "2024-02-20T08:36:55.135784",
     "status": "completed"
    },
    "tags": []
   },
   "outputs": [
    {
     "name": "stdout",
     "output_type": "stream",
     "text": [
      "6981.799999999999\n",
      "6981\n"
     ]
    }
   ],
   "source": [
    "print(len(dataset)*.7)\n",
    "print(int(len(dataset)*.7))"
   ]
  },
  {
   "cell_type": "code",
   "execution_count": 17,
   "id": "740d6985",
   "metadata": {
    "execution": {
     "iopub.execute_input": "2024-02-20T08:36:55.167158Z",
     "iopub.status.busy": "2024-02-20T08:36:55.166880Z",
     "iopub.status.idle": "2024-02-20T08:36:55.182454Z",
     "shell.execute_reply": "2024-02-20T08:36:55.181738Z"
    },
    "papermill": {
     "duration": 0.025311,
     "end_time": "2024-02-20T08:36:55.184294",
     "exception": false,
     "start_time": "2024-02-20T08:36:55.158983",
     "status": "completed"
    },
    "tags": []
   },
   "outputs": [],
   "source": [
    "train = dataset.take(int(len(dataset)*.7))\n",
    "val = dataset.skip(int(len(dataset)*.7)).take(int(len(dataset)*.2))\n",
    "test = dataset.skip(int(len(dataset)*.9)).take(int(len(dataset)*.1))"
   ]
  },
  {
   "cell_type": "code",
   "execution_count": null,
   "id": "c131aed0",
   "metadata": {
    "papermill": {
     "duration": 0.007091,
     "end_time": "2024-02-20T08:36:55.198391",
     "exception": false,
     "start_time": "2024-02-20T08:36:55.191300",
     "status": "completed"
    },
    "tags": []
   },
   "outputs": [],
   "source": []
  }
 ],
 "metadata": {
  "kaggle": {
   "accelerator": "nvidiaTeslaT4",
   "dataSources": [
    {
     "databundleVersionId": 44219,
     "sourceId": 8076,
     "sourceType": "competition"
    }
   ],
   "dockerImageVersionId": 30648,
   "isGpuEnabled": true,
   "isInternetEnabled": true,
   "language": "python",
   "sourceType": "notebook"
  },
  "kernelspec": {
   "display_name": "Python 3",
   "language": "python",
   "name": "python3"
  },
  "language_info": {
   "codemirror_mode": {
    "name": "ipython",
    "version": 3
   },
   "file_extension": ".py",
   "mimetype": "text/x-python",
   "name": "python",
   "nbconvert_exporter": "python",
   "pygments_lexer": "ipython3",
   "version": "3.10.13"
  },
  "papermill": {
   "default_parameters": {},
   "duration": 49.416931,
   "end_time": "2024-02-20T08:36:58.137149",
   "environment_variables": {},
   "exception": null,
   "input_path": "__notebook__.ipynb",
   "output_path": "__notebook__.ipynb",
   "parameters": {},
   "start_time": "2024-02-20T08:36:08.720218",
   "version": "2.5.0"
  }
 },
 "nbformat": 4,
 "nbformat_minor": 5
}
